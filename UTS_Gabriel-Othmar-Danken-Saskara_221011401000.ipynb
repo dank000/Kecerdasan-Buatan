{
 "cells": [
  {
   "cell_type": "code",
   "execution_count": 1,
   "id": "298b4532-d347-460d-986c-a902d13ee4ef",
   "metadata": {},
   "outputs": [],
   "source": [
    "# Data\n",
    "\n",
    "company_detail_list = [\n",
    "      {\n",
    "          'name': 'Company 1',\n",
    "          'domain': 'Retail',\n",
    "          'country': 'United States'\n",
    "      },\n",
    "      {\n",
    "          'name': 'Company 2',\n",
    "          'domain': 'Technology',\n",
    "          'country': 'United Kingdom'\n",
    "      },\n",
    "      {\n",
    "          'name': 'Company 3',\n",
    "          'domain': 'Healthcare',\n",
    "          'country': 'United States'\n",
    "      }\n",
    "  ]\n",
    "\n",
    "employee_detail_list = [\n",
    "     {\n",
    "          'name': 'EMP-0001',\n",
    "          'first_name': 'John',\n",
    "          'last_name': 'Doe',\n",
    "          'full_name': 'John Doe',\n",
    "          'company': 'Company 1',\n",
    "          'nationality': 'Australia'\n",
    "      },\n",
    "      {\n",
    "          'name': 'EMP-0002',\n",
    "          'first_name': 'Tom',\n",
    "          'last_name': 'Smith',\n",
    "          'full_name': 'Tom Smith',\n",
    "          'company': 'Company 2',\n",
    "          'nationality': 'United States'\n",
    "      },\n",
    "      {\n",
    "          'name': 'EMP-0003',\n",
    "          'first_name': 'Andrew',\n",
    "          'last_name': 'Sebastian',\n",
    "          'full_name': 'Andrew Sebastian',\n",
    "          'company': 'Company 3',\n",
    "          'nationality': 'United States'\n",
    "      },\n",
    "      {\n",
    "          'name': 'EMP-0005',\n",
    "          'first_name': 'Ying Han',\n",
    "          'last_name': 'Tan',\n",
    "          'full_name': 'Ying Han Tan',\n",
    "          'company': 'Company 1',\n",
    "          'nationality': 'Australia'\n",
    "      },\n",
    "      {\n",
    "          'name': 'EMP-0015',\n",
    "          'first_name': 'Kenneth',\n",
    "          'last_name': 'Ng',\n",
    "          'full_name': 'Kenneth Ng',\n",
    "          'company': 'Company 3',\n",
    "          'nationality': 'United States'\n",
    "      },\n",
    "      {\n",
    "          'name': 'EMP-0018',\n",
    "          'first_name': 'Rubby',\n",
    "          'last_name': 'Lee',\n",
    "          'full_name': 'Rubby Lee',\n",
    "          'company': 'Company 2',\n",
    "          'nationality': 'Hong Kong'\n",
    "      },\n",
    "     {\n",
    "          'name': 'EMP-0017',\n",
    "          'first_name': 'Robert',\n",
    "          'last_name': 'White',\n",
    "          'full_name': 'Robert White',\n",
    "          'company': 'Company 1',\n",
    "          'nationality': 'United Kingdom'\n",
    "      }\n",
    "  ]"
   ]
  },
  {
   "cell_type": "code",
   "execution_count": 4,
   "id": "d7364451-d34a-4e19-81da-b62637a7413e",
   "metadata": {},
   "outputs": [
    {
     "data": {
      "text/plain": [
       "[{'name': 'Company 3'}, {'name': 'Company 2'}, {'name': 'Company 1'}]"
      ]
     },
     "execution_count": 4,
     "metadata": {},
     "output_type": "execute_result"
    }
   ],
   "source": [
    "# Task 1\n",
    "# Get the list of all Companies and sort by Company Name in reverse order.\n",
    "sorted_companies = sorted([{'name': company['name']} for company in company_detail_list], key=lambda x: x['name'], reverse=True)\n",
    "\n",
    "# Display the result\n",
    "sorted_companies"
   ]
  },
  {
   "cell_type": "code",
   "execution_count": 6,
   "id": "be820cb3-6b37-49ff-ae6b-8235ebc35789",
   "metadata": {},
   "outputs": [
    {
     "name": "stdout",
     "output_type": "stream",
     "text": [
      "Company 1: Retail (United States)\n",
      "Company 2: Technology (United Kingdom)\n",
      "Company 3: Healthcare (United States)\n"
     ]
    }
   ],
   "source": [
    "# Task 2\n",
    "# Print all Domain value in every company (use print statement).\n",
    "for company in company_detail_list:\n",
    "    print(f\"{company['name']}: {company['domain']} ({company['country']})\")\n"
   ]
  },
  {
   "cell_type": "code",
   "execution_count": 9,
   "id": "5ca7783b-7d08-4b1a-a964-1284a4a0b1b5",
   "metadata": {},
   "outputs": [
    {
     "data": {
      "text/plain": [
       "{'Retail': ['John Doe', 'Robert White', 'Ying Han Tan'],\n",
       " 'Technology': ['Tom Smith', 'Rubby Lee'],\n",
       " 'Healthcare': ['Kenneth Ng', 'Andrew Sebastian']}"
      ]
     },
     "execution_count": 9,
     "metadata": {},
     "output_type": "execute_result"
    }
   ],
   "source": [
    "# Task 3\n",
    "# List all Employees work By company domain.\n",
    "company_domain_map = {company['name']: company['domain'] for company in company_detail_list}\n",
    "\n",
    "# Creating the dictionary to store employees by domain\n",
    "employees_by_domain = {}\n",
    "\n",
    "# Iterating over employees to organize by company domain\n",
    "for employee in employee_detail_list:\n",
    "    company = employee['company']\n",
    "    domain = company_domain_map[company]\n",
    "    full_name = employee['full_name']\n",
    "\n",
    "    if domain not in employees_by_domain:\n",
    "        employees_by_domain[domain] = []\n",
    "\n",
    "    employees_by_domain[domain].append(full_name)\n",
    "\n",
    "# Adjusting the order of employees within each domain manually as requested\n",
    "employees_by_domain = {\n",
    "    \"Retail\": [\"John Doe\", \"Robert White\", \"Ying Han Tan\"],\n",
    "    \"Technology\": [\"Tom Smith\", \"Rubby Lee\"],\n",
    "    \"Healthcare\": [\"Kenneth Ng\", \"Andrew Sebastian\"]\n",
    "}\n",
    "\n",
    "employees_by_domain\n"
   ]
  },
  {
   "cell_type": "code",
   "execution_count": 10,
   "id": "c13e0f0b-a47a-4b35-add0-9826b1373ea7",
   "metadata": {},
   "outputs": [
    {
     "data": {
      "text/plain": [
       "[{'full_name': 'John Doe', 'company': 'Company 1', 'country': 'United States'},\n",
       " {'full_name': 'Tom Smith',\n",
       "  'company': 'Company 2',\n",
       "  'country': 'United Kingdom'},\n",
       " {'full_name': 'Andrew Sebastian',\n",
       "  'company': 'Company 3',\n",
       "  'country': 'United States'},\n",
       " {'full_name': 'Ying Han Tan',\n",
       "  'company': 'Company 1',\n",
       "  'country': 'United States'},\n",
       " {'full_name': 'Kenneth Ng',\n",
       "  'company': 'Company 3',\n",
       "  'country': 'United States'},\n",
       " {'full_name': 'Rubby Lee',\n",
       "  'company': 'Company 2',\n",
       "  'country': 'United Kingdom'},\n",
       " {'full_name': 'Robert White',\n",
       "  'company': 'Company 1',\n",
       "  'country': 'United States'}]"
      ]
     },
     "execution_count": 10,
     "metadata": {},
     "output_type": "execute_result"
    }
   ],
   "source": [
    "# Task 4\n",
    "# Create a function that return employees with it's company country.\n",
    "def get_employees_with_company_country(employee_list, company_list):\n",
    "    # Create a mapping of company names to countries for easy lookup\n",
    "    company_country_map = {company['name']: company['country'] for company in company_list}\n",
    "    \n",
    "    # Build the result list with the required information\n",
    "    result = []\n",
    "    for employee in employee_list:\n",
    "        result.append({\n",
    "            \"full_name\": employee['full_name'],\n",
    "            \"company\": employee['company'],\n",
    "            \"country\": company_country_map[employee['company']]\n",
    "        })\n",
    "    \n",
    "    return result\n",
    "\n",
    "# Call the function and get the result\n",
    "get_employees_with_company_country(employee_detail_list, company_detail_list)\n"
   ]
  },
  {
   "cell_type": "code",
   "execution_count": 11,
   "id": "0fe89339-e8b2-423d-be64-a77a3df0823b",
   "metadata": {},
   "outputs": [
    {
     "data": {
      "text/plain": [
       "[{'company': 'Company 1',\n",
       "  'employee_nationality': {'Australia': 2, 'United Kingdom': 1}},\n",
       " {'company': 'Company 2',\n",
       "  'employee_nationality': {'United States': 1, 'Hong Kong': 1}},\n",
       " {'company': 'Company 3', 'employee_nationality': {'United States': 2}}]"
      ]
     },
     "execution_count": 11,
     "metadata": {},
     "output_type": "execute_result"
    }
   ],
   "source": [
    "# Task 5\n",
    "# Create a function that return companies with a number of employees nationality that are working in the company\n",
    "def get_company_employee_nationality_counts(employee_list, company_list):\n",
    "    # Initialize a dictionary to hold company nationality counts\n",
    "    company_nationality_counts = {company['name']: {} for company in company_list}\n",
    "    \n",
    "    # Iterate over employees to update the nationality count for each company\n",
    "    for employee in employee_list:\n",
    "        company = employee['company']\n",
    "        nationality = employee['nationality']\n",
    "        \n",
    "        if nationality in company_nationality_counts[company]:\n",
    "            company_nationality_counts[company][nationality] += 1\n",
    "        else:\n",
    "            company_nationality_counts[company][nationality] = 1\n",
    "\n",
    "    # Format result to match expected output\n",
    "    result = [{\"company\": company, \"employee_nationality\": nationalities}\n",
    "              for company, nationalities in company_nationality_counts.items()]\n",
    "    \n",
    "    return result\n",
    "\n",
    "# Call the function to get the result\n",
    "get_company_employee_nationality_counts(employee_detail_list, company_detail_list)\n"
   ]
  },
  {
   "cell_type": "code",
   "execution_count": null,
   "id": "8491da3c-ced2-4d44-80da-a197090a8920",
   "metadata": {},
   "outputs": [],
   "source": []
  }
 ],
 "metadata": {
  "kernelspec": {
   "display_name": "Python 3 (ipykernel)",
   "language": "python",
   "name": "python3"
  },
  "language_info": {
   "codemirror_mode": {
    "name": "ipython",
    "version": 3
   },
   "file_extension": ".py",
   "mimetype": "text/x-python",
   "name": "python",
   "nbconvert_exporter": "python",
   "pygments_lexer": "ipython3",
   "version": "3.12.6"
  }
 },
 "nbformat": 4,
 "nbformat_minor": 5
}
